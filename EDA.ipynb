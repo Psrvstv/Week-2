{
 "cells": [
  {
   "cell_type": "code",
   "execution_count": null,
   "id": "d3afae31",
   "metadata": {
    "vscode": {
     "languageId": "plaintext"
    }
   },
   "outputs": [],
   "source": [
    "# 🧪 Exploratory Data Analysis - Water Quality\n",
    "\n",
    "import pandas as pd\n",
    "import matplotlib.pyplot as plt\n",
    "import seaborn as sns\n",
    "\n",
    "# Load dataset\n",
    "df = pd.read_csv('../data/water_quality_dataset.csv')\n",
    "\n",
    "# Display top rows\n",
    "df.head()\n",
    "\n",
    "# Dataset info\n",
    "df.info()\n",
    "\n",
    "# Statistical summary\n",
    "df.describe()\n",
    "\n",
    "# Correlation Heatmap\n",
    "sns.heatmap(df.corr(), annot=True, cmap='coolwarm')\n",
    "plt.title('Correlation Heatmap')\n",
    "plt.show()\n",
    "\n",
    "# Pairplot\n",
    "sns.pairplot(df, hue='Potability')\n",
    "plt.show()\n"
   ]
  }
 ],
 "metadata": {
  "language_info": {
   "name": "python"
  }
 },
 "nbformat": 4,
 "nbformat_minor": 5
}
